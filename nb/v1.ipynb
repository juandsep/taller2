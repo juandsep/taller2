{
 "cells": [
  {
   "cell_type": "code",
   "execution_count": 1,
   "metadata": {},
   "outputs": [],
   "source": [
    "# -*- librerias --*-\n",
    "import random\n",
    "import pandas as pd\n",
    "import numpy as np\n",
    "import matplotlib.pyplot as plt\n",
    "from surprise import dump\n",
    "from surprise import Reader, accuracy, Dataset, KNNWithMeans\n",
    "from surprise.model_selection import train_test_split\n",
    "from surprise.prediction_algorithms import KNNBasic, KNNBaseline, SVD\n",
    "\n",
    "# Para garantizar reproducibilidad en resultados\n",
    "seed = 10\n",
    "random.seed(seed)\n",
    "np.random.seed(seed)\n",
    "\n",
    "# -*- funciones --*-\n",
    "def evaluate_models(models, test_set):\n",
    "    results = {}\n",
    "    \n",
    "    for name, model in models.items():\n",
    "        test_predictions = model.test(test_set)\n",
    "        rmse = accuracy.rmse(test_predictions, verbose=False)\n",
    "        \n",
    "        # Comparar la predicción con una observación del test_set\n",
    "        example_prediction = test_predictions[1]  # Tomamos la primera predicción como ejemplo\n",
    "        real_rating = example_prediction.r_ui\n",
    "        predicted_rating = example_prediction.est\n",
    "        difference = abs(real_rating - predicted_rating)\n",
    "    \n",
    "        results[name] = {\n",
    "            'RMSE': rmse,\n",
    "            'RealRating': real_rating,\n",
    "            'PredictedRating': predicted_rating,\n",
    "            'Difference': difference\n",
    "        }\n",
    "    \n",
    "    return results\n",
    "\n",
    "def train_models(train_set, test_set, user_based=True):\n",
    "    models = {}\n",
    "    # Entrenar modelo con similitud coseno\n",
    "    # sim_options_cosine = {'name': 'cosine', 'user_based': user_based}\n",
    "    # model_cosine = KNNWithMeans(k=100, min_k=50, sim_options=sim_options_cosine)\n",
    "    # model_cosine.fit(trainset=train_set)\n",
    "    # models['cosine'] = model_cosine\n",
    "\n",
    "    # Entrenar modelo con similitud de Pearson\n",
    "    sim_options_pearson = {'name': 'pearson', 'user_based': user_based}\n",
    "    model_pearson = KNNWithMeans(k=100, min_k=50, sim_options=sim_options_pearson)\n",
    "    model_pearson.fit(trainset=train_set)\n",
    "    models['pearson'] = model_pearson\n",
    "    \n",
    "    # Evaluamos los modelos\n",
    "    results = evaluate_models(models, test_set)\n",
    "    \n",
    "    return models, results\n",
    "\n",
    "\n",
    "# -*- rutas --*-\n",
    "data_path = '../data/'\n",
    "# Lista de archivos JSON y sus correspondientes nombres\n",
    "files = {\n",
    "    'yelp_academic_dataset_review.json': 'review',\n",
    "    'yelp_academic_dataset_business.json': 'business',\n",
    "    'yelp_academic_dataset_user.json': 'user'\n",
    "}"
   ]
  },
  {
   "cell_type": "code",
   "execution_count": null,
   "metadata": {},
   "outputs": [],
   "source": [
    "# Define el tamaño del fragmento\n",
    "chunk_size = 6000000  # Ajusta esto según la capacidad de memoria de tu sistema\n",
    "\n",
    "# Define la ruta a los archivos JSON\n",
    "data_path = data_path  # Ajusta esto a la ruta de tus archivos\n",
    "\n",
    "# Diccionario para almacenar los DataFrames\n",
    "dataframes = {}\n",
    "\n",
    "# Procesa cada archivo\n",
    "for file_name, df_name in files.items():\n",
    "    # Ruta al archivo JSON\n",
    "    file_path = f'{data_path}/{file_name}'\n",
    "\n",
    "    # Lee el primer fragmento del archivo JSON\n",
    "    json_reader = pd.read_json(file_path, lines=True, chunksize=chunk_size)\n",
    "    first_chunk = next(json_reader)\n",
    "\n",
    "    # Guarda el fragmento en el diccionario con el nombre correspondiente\n",
    "    dataframes[df_name] = first_chunk"
   ]
  },
  {
   "cell_type": "code",
   "execution_count": null,
   "metadata": {},
   "outputs": [],
   "source": [
    "print(dataframes['business'].shape)\n",
    "print(dataframes['review'].shape)\n",
    "print(dataframes['user'].shape)\n"
   ]
  },
  {
   "cell_type": "code",
   "execution_count": null,
   "metadata": {},
   "outputs": [],
   "source": [
    "# -*- Filtrar negocios de interes --*-\n",
    "# Valores sin nas\n",
    "dataframes['business'] = dataframes['business'].dropna(subset=['categories'])\n",
    "# Negocios abiertos\n",
    "dataframes['business'] = dataframes['business'][dataframes['business']['is_open'] == 1] \n",
    "# Lista de palabras clave\n",
    "keywords = ['Gastropubs', 'Nightlife', 'Bars', 'Cocktail Bars', 'Karaoke', 'Brewpubs', 'Pubs', 'Lounges', 'Whiskey Bars', 'Irish Pub', 'Beer Bar', 'Sports Bars', 'Wine Bars']\n",
    "# Filtrar las filas que contienen las palabras clave en la columna 'categories'\n",
    "dataframes['business'] = dataframes['business'][dataframes['business']['categories'].str.contains('|'.join(keywords))]\n",
    "\n",
    "# Filtrar las filas anteriores a 2017\n",
    "dataframes['review'] = dataframes['review'][pd.to_datetime(dataframes['review']['date']).dt.year >= 2019]\n",
    "\n",
    "# Calcula el percentil 25 de la variable review_count\n",
    "percentile_25 = dataframes['business']['review_count'].quantile(0.25)\n",
    "\n",
    "# Filtra las filas que cumplen la condición\n",
    "dataframes['business'] = dataframes['business'][dataframes['business']['review_count'] >= percentile_25]\n",
    "\n",
    "# -*- Filtrar reviews de interes --*-\n",
    "dataframes['review'] = dataframes['review'][dataframes['review']['business_id'].isin(dataframes['business']['business_id'])]\n",
    "\n",
    "# -*- Filtrar usuarios de interes --*-\n",
    "dataframes['user'] = dataframes['user'][dataframes['user']['user_id'].isin(dataframes['review']['user_id'])]\n",
    "\n",
    "# -*- Guardar los DataFrames filtrados --*-\n",
    "dataframes['business'].to_csv('../data/business_filtered.csv', index=False)\n",
    "dataframes['review'].to_csv('../data/review_filtered.csv', index=False)\n",
    "dataframes['user'].to_csv('../data/user_filtered.csv', index=False)"
   ]
  },
  {
   "cell_type": "code",
   "execution_count": 2,
   "metadata": {},
   "outputs": [],
   "source": [
    "# -*- Leer los DataFrames filtrados --*-\n",
    "# business_filtered = pd.read_csv('../data/business_filtered.csv')\n",
    "review_filtered = pd.read_csv('../data/review_filtered.csv')\n",
    "# user_filtered = pd.read_csv('../data/user_filtered.csv')\n",
    "\n",
    "# -*- Imprimir la forma de los DataFrames filtrados --*-\n",
    "# print(business_filtered.shape)\n",
    "# print(review_filtered.shape)\n",
    "# print(user_filtered.shape)"
   ]
  },
  {
   "cell_type": "code",
   "execution_count": null,
   "metadata": {},
   "outputs": [],
   "source": [
    "# Obtener los valores de la variable review_count\n",
    "review_counts = business_filtered['review_count']\n",
    "\n",
    "# Crear el histograma\n",
    "plt.hist(review_counts, bins=10, edgecolor='black')\n",
    "\n",
    "# Personalizar el gráfico\n",
    "plt.title('Histograma de Review Count')\n",
    "plt.xlabel('Review Count')\n",
    "plt.ylabel('Frecuencia')\n",
    "\n",
    "# Mostrar el histograma\n",
    "plt.show()\n"
   ]
  },
  {
   "cell_type": "code",
   "execution_count": null,
   "metadata": {},
   "outputs": [],
   "source": [
    "summary = business_filtered['review_count'].describe()\n",
    "print(summary)"
   ]
  },
  {
   "cell_type": "code",
   "execution_count": null,
   "metadata": {},
   "outputs": [],
   "source": [
    "review_filtered.head()"
   ]
  },
  {
   "cell_type": "code",
   "execution_count": 3,
   "metadata": {},
   "outputs": [
    {
     "name": "stdout",
     "output_type": "stream",
     "text": [
      "80468\n",
      "20118\n"
     ]
    }
   ],
   "source": [
    "# Creacion obj reade\n",
    "reader = Reader(rating_scale = (1, 5))\n",
    "# Muestreo aleatorio del 100%\n",
    "df_sample = review_filtered.sample(frac=0.25, random_state=42)\n",
    "#Se crea el dataset a partir del dataframe\n",
    "surprise_dataset = Dataset.load_from_df(df_sample[['user_id', 'business_id', 'stars']], reader)\n",
    "train_set, test_set=  train_test_split(surprise_dataset, test_size=.2)\n",
    "print(train_set.n_ratings)\n",
    "print(len(test_set))"
   ]
  },
  {
   "cell_type": "code",
   "execution_count": 4,
   "metadata": {},
   "outputs": [
    {
     "name": "stdout",
     "output_type": "stream",
     "text": [
      "Computing the cosine similarity matrix...\n"
     ]
    },
    {
     "ename": "",
     "evalue": "",
     "output_type": "error",
     "traceback": [
      "\u001b[1;31mEl kernel se bloqueó al ejecutar código en la celda actual o en una celda anterior. \n",
      "\u001b[1;31mRevise el código de las celdas para identificar una posible causa del error. \n",
      "\u001b[1;31mHaga clic <a href='https://aka.ms/vscodeJupyterKernelCrash'>aquí</a> para obtener más información. \n",
      "\u001b[1;31mVea Jupyter <a href='command:jupyter.viewOutput'>log</a> para obtener más detalles."
     ]
    }
   ],
   "source": [
    "# Entrenar modelos usuario-usuario\n",
    "models, results = train_models(train_set, test_set)"
   ]
  },
  {
   "cell_type": "code",
   "execution_count": null,
   "metadata": {},
   "outputs": [],
   "source": [
    "# Imprimir los resultados de la evaluación\n",
    "for model_name, result in results.items():\n",
    "    print(f\"Modelo: {model_name}\")\n",
    "    print(f\"RMSE: {result['RMSE']}\")\n",
    "    print(f\"Valor real: {result['RealRating']}\")\n",
    "    print(f\"Valor predicho: {result['PredictedRating']}\")\n",
    "    print(f\"Diferencia entre predicción y valor real de la primera observación del test set: {result['Difference']}\")\n",
    "    print()"
   ]
  }
 ],
 "metadata": {
  "kernelspec": {
   "display_name": "Python 3",
   "language": "python",
   "name": "python3"
  },
  "language_info": {
   "codemirror_mode": {
    "name": "ipython",
    "version": 3
   },
   "file_extension": ".py",
   "mimetype": "text/x-python",
   "name": "python",
   "nbconvert_exporter": "python",
   "pygments_lexer": "ipython3",
   "version": "3.9.6"
  }
 },
 "nbformat": 4,
 "nbformat_minor": 2
}
